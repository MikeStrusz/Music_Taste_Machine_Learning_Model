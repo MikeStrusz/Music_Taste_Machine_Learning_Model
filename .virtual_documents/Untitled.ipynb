


import asyncio
import nest_asyncio
import aiohttp
import csv
import os
from typing import List, Dict, Set
from datetime import datetime

nest_asyncio.apply()  # Add this line to patch asyncio

class AsyncLastFMAPI:
    def __init__(self, api_key: str):
        self.api_key = api_key
        self.base_url = "http://ws.audioscrobbler.com/2.0/"
        self.semaphore = asyncio.Semaphore(15)

    async def fetch_with_semaphore(self, session, params):
        async with self.semaphore:
            async with session.get(self.base_url, params=params) as response:
                return await response.json()

    async def get_artist_info(self, session, artist_name: str) -> Dict:
        params = {
            'method': 'artist.getinfo',
            'artist': artist_name,
            'api_key': self.api_key,
            'format': 'json'
        }
        try:
            data = await self.fetch_with_semaphore(session, params)
            artist = data.get('artist', {})

            return {
                'name': artist_name,
                'genre': artist.get('tags', {}).get('tag', [{}])[0].get('name', 'Unknown'),
                'play_count': int(artist.get('stats', {}).get('userplaycount', 0))
            }
        except Exception as e:
            print(f"Artist info fetch error for {artist_name}: {e}")
            return {'name': artist_name, 'genre': 'Unknown', 'play_count': 0}

def read_unique_artists_from_csvs(file_paths: List[str]) -> Set[str]:
    unique_artists = set()
    for file_path in file_paths:
        with open(file_path, 'r', encoding='utf-8') as csvfile:
            reader = csv.DictReader(csvfile)
            unique_artists.update(row['Artist Name(s)'] for row in reader)
    return unique_artists

async def main(api_key: str):
    os.makedirs('data', exist_ok=True)
    api = AsyncLastFMAPI(api_key)
    
    # Read artists from specific CSV files
    unique_artists = read_unique_artists_from_csvs([
        'data/liked.csv', 
        'data/liked_albums.csv'
    ])
    print(f"Found {len(unique_artists)} unique artists")
    
    async with aiohttp.ClientSession() as session:
        # Fetch artist details concurrently
        artist_details = await asyncio.gather(
            *[api.get_artist_info(session, artist) for artist in unique_artists]
        )

        # Write to CSV
        with open('data/genre_counts.csv', 'w', newline='', encoding='utf-8') as csvfile:
            writer = csv.DictWriter(csvfile, fieldnames=['name', 'genre', 'play_count'])
            writer.writeheader()
            writer.writerows(artist_details)

        print(f"Exported details for {len(artist_details)} artists")

if __name__ == "__main__":
    API_KEY = '74a510ecc9fc62bf3e0edc6aac2e99f9'
    
    asyncio.run(main(API_KEY))

