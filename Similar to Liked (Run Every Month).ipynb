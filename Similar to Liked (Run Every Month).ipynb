{
 "cells": [
  {
   "cell_type": "markdown",
   "id": "b8b54458-1f74-49cb-b062-82588c52deb5",
   "metadata": {},
   "source": [
    "# Similar Artists to Artists I Like in My Last.fm"
   ]
  },
  {
   "cell_type": "code",
   "execution_count": 2,
   "id": "fa2ea44b-738d-4796-9721-873cf4f3d3fd",
   "metadata": {},
   "outputs": [
    {
     "name": "stdout",
     "output_type": "stream",
     "text": [
      "Number of unique artists: 2126\n"
     ]
    }
   ],
   "source": [
    "import pandas as pd\n",
    "\n",
    "# Load the two files\n",
    "df_liked = pd.read_csv('data/liked.csv')\n",
    "df_liked_albums = pd.read_csv('data/liked_albums.csv')\n",
    "\n",
    "# Extract the first artist from 'Artist Name(s)' and combine the two datasets\n",
    "df_liked['Artist'] = df_liked['Artist Name(s)'].str.split(',').str[0]\n",
    "df_liked_albums['Artist'] = df_liked_albums['Artist Name(s)'].str.split(',').str[0]\n",
    "\n",
    "# Combine the unique artists from both datasets\n",
    "unique_artists = pd.concat([df_liked['Artist'], df_liked_albums['Artist']]).unique()\n",
    "\n",
    "# Output the number of unique artists\n",
    "print(f\"Number of unique artists: {len(unique_artists)}\")\n"
   ]
  },
  {
   "cell_type": "code",
   "execution_count": null,
   "id": "4388b8be-f743-46a6-b0cb-9492bed5cf1a",
   "metadata": {},
   "outputs": [
    {
     "name": "stdout",
     "output_type": "stream",
     "text": [
      "\n",
      "Phase 2: Finding similar artists for 2126 unique artists...\n",
      "API request failed: Expecting value: line 1 column 1 (char 0)\n"
     ]
    }
   ],
   "source": [
    "import pandas as pd\n",
    "import csv\n",
    "import requests\n",
    "from typing import List\n",
    "from concurrent.futures import ThreadPoolExecutor, as_completed\n",
    "from time import sleep\n",
    "from datetime import datetime\n",
    "import os\n",
    "\n",
    "class LastFMAPI:\n",
    "    def __init__(self, api_key: str, username: str, rate_limit_delay: float = 0.25):\n",
    "        self.api_key = api_key\n",
    "        self.username = username\n",
    "        self.base_url = \"http://ws.audioscrobbler.com/2.0/\"\n",
    "        self.rate_limit_delay = rate_limit_delay\n",
    "        \n",
    "    def _make_request(self, params: dict) -> dict:\n",
    "        sleep(self.rate_limit_delay)\n",
    "        try:\n",
    "            response = requests.get(self.base_url, params=params)\n",
    "            response.raise_for_status()\n",
    "            return response.json()\n",
    "        except requests.exceptions.RequestException as e:\n",
    "            print(f\"API request failed for {params.get('artist')}: {e}\")\n",
    "            return None\n",
    "\n",
    "    def get_similar_artists(self, artist_name: str, limit: int = 5) -> List[str]:\n",
    "        params = {\n",
    "            'method': 'artist.getsimilar',\n",
    "            'artist': artist_name,\n",
    "            'api_key': self.api_key,\n",
    "            'format': 'json',\n",
    "            'limit': limit\n",
    "        }\n",
    "        data = self._make_request(params)\n",
    "        if data and 'similarartists' in data:\n",
    "            return [artist['name'] for artist in data['similarartists'].get('artist', [])]\n",
    "        return []\n",
    "\n",
    "def export_similar_artists(api_key: str, username: str, output_file: str = 'data/liked_artists_only_similar.csv'):\n",
    "    df_liked = pd.read_csv('data/liked.csv')\n",
    "    df_liked_albums = pd.read_csv('data/liked_albums.csv')\n",
    "    \n",
    "    df_liked['Artist'] = df_liked['Artist Name(s)'].str.split(',').str[0].str.strip()\n",
    "    df_liked_albums['Artist'] = df_liked_albums['Artist Name(s)'].str.split(',').str[0].str.strip()\n",
    "    \n",
    "    unique_artists = set(pd.concat([df_liked['Artist'], df_liked_albums['Artist']]).unique())\n",
    "    \n",
    "    existing_artists = set()\n",
    "    if os.path.exists(output_file):\n",
    "        existing_df = pd.read_csv(output_file)\n",
    "        existing_artists = set(existing_df['Artist'].str.strip())\n",
    "    \n",
    "    new_artists = list(unique_artists - existing_artists)\n",
    "    \n",
    "    if not new_artists:\n",
    "        print(\"No new artists found. Skipping API calls.\")\n",
    "        return\n",
    "        \n",
    "    if len(new_artists) <= 30:\n",
    "        print(\"New artists to process:\")\n",
    "        for artist in new_artists:\n",
    "            print(f\"- {artist}\")\n",
    "    else:\n",
    "        print(f\"Processing {len(new_artists)} new artists...\")\n",
    "    \n",
    "    api = LastFMAPI(api_key, username)\n",
    "    processed_count = 0\n",
    "    \n",
    "    mode = 'a' if os.path.exists(output_file) else 'w'\n",
    "    with open(output_file, mode, newline='', encoding='utf-8') as csvfile:\n",
    "        writer = csv.DictWriter(csvfile, fieldnames=['Artist', 'Similar Artists'])\n",
    "        if mode == 'w':\n",
    "            writer.writeheader()\n",
    "            \n",
    "        for artist in new_artists:\n",
    "            similar_artists = api.get_similar_artists(artist)\n",
    "            writer.writerow({\n",
    "                'Artist': artist,\n",
    "                'Similar Artists': ', '.join(similar_artists)\n",
    "            })\n",
    "            processed_count += 1\n",
    "            \n",
    "            if len(new_artists) > 30 and processed_count % 50 == 0:\n",
    "                print(f\"Processed {processed_count} artists...\")\n",
    "    \n",
    "    print(f\"Complete! Added {len(new_artists)} new artists to the database.\")\n",
    "\n",
    "if __name__ == \"__main__\":\n",
    "    API_KEY = '74a510ecc9fc62bf3e0edc6adc2e99f9'\n",
    "    USERNAME = 'Strusz_Music'\n",
    "    export_similar_artists(API_KEY, USERNAME)"
   ]
  }
 ],
 "metadata": {
  "kernelspec": {
   "display_name": "Python 3 (ipykernel)",
   "language": "python",
   "name": "python3"
  },
  "language_info": {
   "codemirror_mode": {
    "name": "ipython",
    "version": 3
   },
   "file_extension": ".py",
   "mimetype": "text/x-python",
   "name": "python",
   "nbconvert_exporter": "python",
   "pygments_lexer": "ipython3",
   "version": "3.12.4"
  }
 },
 "nbformat": 4,
 "nbformat_minor": 5
}
