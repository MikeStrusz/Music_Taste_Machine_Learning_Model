{
 "cells": [
  {
   "cell_type": "markdown",
   "id": "b8b54458-1f74-49cb-b062-82588c52deb5",
   "metadata": {},
   "source": [
    "# Genre Exploration"
   ]
  },
  {
   "cell_type": "markdown",
   "id": "e8251dec-9c86-4c20-aa7e-e423474736ea",
   "metadata": {},
   "source": [
    "A seperate notebook to toy with the genrens column."
   ]
  },
  {
   "cell_type": "markdown",
   "id": "33dd5200-f273-4751-9764-79a2498cc6ff",
   "metadata": {},
   "source": [
    "## Import Libraries"
   ]
  },
  {
   "cell_type": "code",
   "execution_count": 2,
   "id": "4388b8be-f743-46a6-b0cb-9492bed5cf1a",
   "metadata": {},
   "outputs": [],
   "source": [
    "import pandas as pd\n",
    "import numpy as np\n",
    "from sklearn.model_selection import train_test_split\n",
    "from sklearn.preprocessing import MinMaxScaler\n",
    "from sklearn.preprocessing import MultiLabelBinarizer\n",
    "from sklearn.preprocessing import StandardScaler"
   ]
  },
  {
   "cell_type": "code",
   "execution_count": 3,
   "id": "d646635d-335f-44ef-b274-e59be910eb61",
   "metadata": {},
   "outputs": [
    {
     "name": "stdout",
     "output_type": "stream",
     "text": [
      "Object `other` not found.\n"
     ]
    }
   ],
   "source": []
  }
 ],
 "metadata": {
  "kernelspec": {
   "display_name": "Python 3 (ipykernel)",
   "language": "python",
   "name": "python3"
  },
  "language_info": {
   "codemirror_mode": {
    "name": "ipython",
    "version": 3
   },
   "file_extension": ".py",
   "mimetype": "text/x-python",
   "name": "python",
   "nbconvert_exporter": "python",
   "pygments_lexer": "ipython3",
   "version": "3.12.4"
  }
 },
 "nbformat": 4,
 "nbformat_minor": 5
}
