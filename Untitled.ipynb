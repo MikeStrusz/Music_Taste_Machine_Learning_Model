{
 "cells": [
  {
   "cell_type": "code",
   "execution_count": 2,
   "id": "d4b24d5c-9593-4e8f-8da2-b6fb04ff8ba8",
   "metadata": {},
   "outputs": [
    {
     "name": "stdout",
     "output_type": "stream",
     "text": [
      "Saved 2126 unique artists to data/unique_artists.csv\n"
     ]
    }
   ],
   "source": [
    "import pandas as pd\n",
    "\n",
    "def extract_primary_artist(artist_string: str) -> str:\n",
    "    \"\"\"Extract the first artist before any comma.\"\"\"\n",
    "    return artist_string.split(\",\")[0].strip()\n",
    "\n",
    "def normalize_artist_name(artist: str) -> str:\n",
    "    \"\"\"Normalize artist names for consistent comparison.\"\"\"\n",
    "    return artist.strip().lower()\n",
    "\n",
    "def main():\n",
    "    # Load all datasets\n",
    "    df_liked = pd.read_csv(\"data/liked.csv\")\n",
    "    df_fav_albums = pd.read_csv(\"data/liked_albums.csv\")\n",
    "\n",
    "    # Extract primary artists from both datasets\n",
    "    primary_artists_liked = df_liked[\"Artist Name(s)\"].apply(extract_primary_artist)\n",
    "    primary_artists_albums = df_fav_albums[\"Artist Name(s)\"].apply(extract_primary_artist)\n",
    "\n",
    "    # Combine and deduplicate\n",
    "    all_artists = pd.concat([primary_artists_liked, primary_artists_albums]).drop_duplicates()\n",
    "\n",
    "    # Normalize artist names (optional, for consistency)\n",
    "    all_artists_normalized = all_artists.apply(normalize_artist_name)\n",
    "\n",
    "    # Save to a new CSV\n",
    "    all_artists.to_csv(\"data/unique_artists.csv\", index=False, header=[\"Artist\"])\n",
    "    print(f\"Saved {len(all_artists)} unique artists to data/unique_artists.csv\")\n",
    "\n",
    "if __name__ == \"__main__\":\n",
    "    main()"
   ]
  },
  {
   "cell_type": "code",
   "execution_count": 3,
   "id": "411173cc-e41c-483c-8f1d-04be6698ce82",
   "metadata": {},
   "outputs": [
    {
     "name": "stderr",
     "output_type": "stream",
     "text": [
      "Fetching similar artists: 100%|██████████| 2126/2126 [07:40<00:00,  4.62it/s]\n"
     ]
    },
    {
     "name": "stdout",
     "output_type": "stream",
     "text": [
      "Saved similar artists data to data/liked_artists_only_similar.csv\n"
     ]
    }
   ],
   "source": [
    "import pandas as pd\n",
    "import requests\n",
    "import concurrent.futures\n",
    "from tqdm import tqdm  # For a nice progress bar\n",
    "\n",
    "# Define your API details\n",
    "API_KEY = \"74a510ecc9fc62bf3e0edc6adc2e99f9\"\n",
    "SHARED_SECRET = \"6184d698e147753ab718bbf8572c5b9b\"\n",
    "\n",
    "# Read in the list of unique artists\n",
    "unique_artists = pd.read_csv('data/unique_artists.csv')\n",
    "\n",
    "# Function to get similar artists from Last.fm\n",
    "def get_similar_artists(artist_name):\n",
    "    url = f\"http://ws.audioscrobbler.com/2.0/?method=artist.getsimilar&artist={artist_name}&api_key={API_KEY}&format=json\"\n",
    "    try:\n",
    "        response = requests.get(url)\n",
    "        data = response.json()\n",
    "        \n",
    "        # Handle case where no similar artists are found\n",
    "        if 'similarartists' in data and 'artist' in data['similarartists']:\n",
    "            similar_artists = [similar_artist['name'] for similar_artist in data['similarartists']['artist']]\n",
    "            return artist_name, similar_artists\n",
    "        else:\n",
    "            return artist_name, []\n",
    "    except Exception as e:\n",
    "        print(f\"Error fetching data for {artist_name}: {e}\")\n",
    "        return artist_name, []\n",
    "\n",
    "# List to store results\n",
    "similar_artists_data = []\n",
    "\n",
    "# Function to process each artist\n",
    "def process_artist(artist):\n",
    "    artist_name, similar_artists = get_similar_artists(artist)\n",
    "    return [(artist_name, similar_artist) for similar_artist in similar_artists]\n",
    "\n",
    "# Using ThreadPoolExecutor for concurrent requests\n",
    "with concurrent.futures.ThreadPoolExecutor(max_workers=10) as executor:\n",
    "    # Submit tasks to the executor for each artist\n",
    "    futures = {executor.submit(process_artist, artist): artist for artist in unique_artists['Artist']}\n",
    "    \n",
    "    # Set up a progress bar\n",
    "    for future in tqdm(concurrent.futures.as_completed(futures), total=len(futures), desc=\"Fetching similar artists\"):\n",
    "        result = future.result()\n",
    "        for artist_name, similar_artist in result:\n",
    "            similar_artists_data.append({\"Artist\": artist_name, \"SimilarArtist\": similar_artist})\n",
    "\n",
    "# Convert to DataFrame and save as CSV\n",
    "similar_artists_df = pd.DataFrame(similar_artists_data)\n",
    "similar_artists_df.to_csv('data/liked_artists_only_similar.csv', index=False)\n",
    "\n",
    "print(f\"Saved similar artists data to data/liked_artists_only_similar.csv\")\n"
   ]
  }
 ],
 "metadata": {
  "kernelspec": {
   "display_name": "Python 3 (ipykernel)",
   "language": "python",
   "name": "python3"
  },
  "language_info": {
   "codemirror_mode": {
    "name": "ipython",
    "version": 3
   },
   "file_extension": ".py",
   "mimetype": "text/x-python",
   "name": "python",
   "nbconvert_exporter": "python",
   "pygments_lexer": "ipython3",
   "version": "3.12.4"
  }
 },
 "nbformat": 4,
 "nbformat_minor": 5
}
